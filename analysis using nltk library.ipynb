{
 "cells": [
  {
   "cell_type": "markdown",
   "id": "393452bd-5098-47e7-83c2-a791b778842a",
   "metadata": {},
   "source": [
    "## The most used-words (Non-articles)"
   ]
  },
  {
   "cell_type": "code",
   "execution_count": 1,
   "id": "2ec5eba4-50e2-418a-b471-605feea59271",
   "metadata": {},
   "outputs": [],
   "source": [
    "with open('miracle_in_the_andes.txt','r',encoding='utf-8') as file:\n",
    "    book = file.read()"
   ]
  },
  {
   "cell_type": "code",
   "execution_count": 2,
   "id": "a813ff82-9afc-4fad-80ff-6c6241ea490e",
   "metadata": {},
   "outputs": [],
   "source": [
    "import re\n",
    "pattern = re.compile('[a-zA-Z]+')\n",
    "words = re.findall(pattern,book.lower())"
   ]
  },
  {
   "cell_type": "code",
   "execution_count": 11,
   "id": "793bdf7a-722e-41e1-bd51-7399cb835ad3",
   "metadata": {},
   "outputs": [],
   "source": [
    "word_count = {}\n",
    "for word in words:\n",
    "    if word in word_count.keys():\n",
    "        word_count[word] +=1\n",
    "    else:\n",
    "         word_count[word] = 1\n",
    "word_count = [(value,key) for (key,value) in word_count.items()]\n",
    "word_count.sort(reverse=True)\n"
   ]
  },
  {
   "cell_type": "markdown",
   "id": "d09ab793-e2db-4f4c-98df-b42f5a03ad6e",
   "metadata": {},
   "source": [
    "### checking python version"
   ]
  },
  {
   "cell_type": "code",
   "execution_count": 4,
   "id": "a5661a99-788d-4b4c-949b-97c9bdd13ebe",
   "metadata": {},
   "outputs": [
    {
     "data": {
      "text/plain": [
       "'3.11.1'"
      ]
     },
     "execution_count": 4,
     "metadata": {},
     "output_type": "execute_result"
    }
   ],
   "source": [
    "from platform import python_version\n",
    "python_version()"
   ]
  },
  {
   "cell_type": "markdown",
   "id": "34627646-5823-4484-8567-219c129506e3",
   "metadata": {},
   "source": [
    "### install nltk library\n"
   ]
  },
  {
   "cell_type": "code",
   "execution_count": 21,
   "id": "0695eaa0-3825-43e8-b87c-20c2fde404fd",
   "metadata": {},
   "outputs": [],
   "source": [
    "import nltk"
   ]
  },
  {
   "cell_type": "code",
   "execution_count": 15,
   "id": "6c48a09b-3369-4f7e-96ae-82fb2ce5719e",
   "metadata": {},
   "outputs": [
    {
     "data": {
      "text/plain": [
       "['i', 'me', 'my', 'myself']"
      ]
     },
     "execution_count": 15,
     "metadata": {},
     "output_type": "execute_result"
    }
   ],
   "source": [
    "from nltk.corpus import stopwords\n",
    "english_stopwords = stopwords.words(\"english\")\n",
    "english_stopwords[:4]"
   ]
  },
  {
   "cell_type": "markdown",
   "id": "0aa15b6d-84b7-489d-8b7a-5a21a5c23522",
   "metadata": {},
   "source": [
    "## Filtering article words(noun,verbs etc) from book words\n"
   ]
  },
  {
   "cell_type": "code",
   "execution_count": 16,
   "id": "f1136abd-b6c0-453f-8bf3-dacf71eea595",
   "metadata": {},
   "outputs": [
    {
     "data": {
      "text/plain": [
       "[(575, 'would'), (519, 'us'), (292, 'said'), (284, 'roberto')]"
      ]
     },
     "execution_count": 16,
     "metadata": {},
     "output_type": "execute_result"
    }
   ],
   "source": [
    "\n",
    "filtered_data = []\n",
    "for (count,word) in word_count:\n",
    "    if word not in english_stopwords:\n",
    "        filtered_data.append((count,word))\n",
    "filtered_data[:4]"
   ]
  },
  {
   "cell_type": "markdown",
   "id": "d5c5a19e-3b5d-4645-9cea-3b0ff4f8e987",
   "metadata": {},
   "source": [
    "## Sentiment analysis: Most positive and negative chapters"
   ]
  },
  {
   "cell_type": "code",
   "execution_count": 53,
   "id": "4f3b9b1b-3566-465a-bb7c-4865dd688a55",
   "metadata": {},
   "outputs": [
    {
     "name": "stderr",
     "output_type": "stream",
     "text": [
      "[nltk_data] Downloading package vader_lexicon to\n",
      "[nltk_data]     C:\\Users\\tst\\AppData\\Roaming\\nltk_data...\n",
      "[nltk_data]   Package vader_lexicon is already up-to-date!\n"
     ]
    }
   ],
   "source": [
    "nltk.download(\"vader_lexicon\")\n",
    "from nltk.sentiment import SentimentIntensityAnalyzer\n",
    "analyzer = SentimentIntensityAnalyzer()\n",
    "\n",
    "# load chapters from book\n",
    "pattern = re.compile('Chapter [0-9]+')\n",
    "chapters = re.split(pattern,book)[1:]\n",
    "\n"
   ]
  },
  {
   "cell_type": "markdown",
   "id": "a4ae5378-4d6c-47e3-a878-ac99fbd8f2c8",
   "metadata": {},
   "source": [
    "#### sentiment anlaysis for each chapter\n"
   ]
  },
  {
   "cell_type": "code",
   "execution_count": 58,
   "id": "e518ebb4-959a-4b93-b3b1-816987de2a52",
   "metadata": {},
   "outputs": [
    {
     "name": "stdout",
     "output_type": "stream",
     "text": [
      "chapter 1 {'neg': 0.061, 'neu': 0.779, 'pos': 0.16, 'compound': 1.0}\n",
      "chapter 2 {'neg': 0.12, 'neu': 0.726, 'pos': 0.154, 'compound': 0.9991}\n",
      "chapter 3 {'neg': 0.145, 'neu': 0.751, 'pos': 0.105, 'compound': -0.9999}\n",
      "chapter 4 {'neg': 0.141, 'neu': 0.721, 'pos': 0.138, 'compound': -0.9963}\n",
      "chapter 5 {'neg': 0.118, 'neu': 0.742, 'pos': 0.141, 'compound': 0.9997}\n",
      "chapter 6 {'neg': 0.124, 'neu': 0.761, 'pos': 0.115, 'compound': -0.9979}\n",
      "chapter 7 {'neg': 0.136, 'neu': 0.761, 'pos': 0.103, 'compound': -0.9999}\n",
      "chapter 8 {'neg': 0.12, 'neu': 0.786, 'pos': 0.094, 'compound': -0.9998}\n",
      "chapter 9 {'neg': 0.097, 'neu': 0.824, 'pos': 0.079, 'compound': -0.9996}\n",
      "chapter 10 {'neg': 0.086, 'neu': 0.733, 'pos': 0.181, 'compound': 1.0}\n"
     ]
    }
   ],
   "source": [
    "for index,chapter in enumerate(chapters):\n",
    "    print(f\"chapter {index+1}\",analyzer.polarity_scores(chapter))"
   ]
  }
 ],
 "metadata": {
  "kernelspec": {
   "display_name": "Python 3 (ipykernel)",
   "language": "python",
   "name": "python3"
  },
  "language_info": {
   "codemirror_mode": {
    "name": "ipython",
    "version": 3
   },
   "file_extension": ".py",
   "mimetype": "text/x-python",
   "name": "python",
   "nbconvert_exporter": "python",
   "pygments_lexer": "ipython3",
   "version": "3.11.1"
  }
 },
 "nbformat": 4,
 "nbformat_minor": 5
}
