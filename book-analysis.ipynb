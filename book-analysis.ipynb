{
 "cells": [
  {
   "cell_type": "markdown",
   "id": "c8d2d08c-7a43-43a4-8272-1fc7abcb0e79",
   "metadata": {},
   "source": [
    "\n",
    "\n",
    "## Load txt file and read contents\n"
   ]
  },
  {
   "cell_type": "code",
   "execution_count": 1,
   "id": "dc0cfed4-f3c3-4834-8da3-a5483ce32f79",
   "metadata": {},
   "outputs": [],
   "source": [
    "with open(\"miracle_in_the_andes.txt\",\"r\",encoding=\"utf-8\") as file:\n",
    "    book = file.read()"
   ]
  },
  {
   "cell_type": "markdown",
   "id": "b401358a-5386-40ec-ade8-86a7c19a05e2",
   "metadata": {},
   "source": [
    "### Finding number of chapters using regular expression"
   ]
  },
  {
   "cell_type": "code",
   "execution_count": 2,
   "id": "0419e000-0337-40f0-bfa4-874097390229",
   "metadata": {},
   "outputs": [],
   "source": [
    "import re"
   ]
  },
  {
   "cell_type": "code",
   "execution_count": 4,
   "id": "e69513c6-3187-4af5-b4a9-ae5cf8e05110",
   "metadata": {},
   "outputs": [
    {
     "data": {
      "text/plain": [
       "['Chapter 1',\n",
       " 'Chapter 2',\n",
       " 'Chapter 3',\n",
       " 'Chapter 4',\n",
       " 'Chapter 5',\n",
       " 'Chapter 6',\n",
       " 'Chapter 7',\n",
       " 'Chapter 8',\n",
       " 'Chapter 9',\n",
       " 'Chapter 10']"
      ]
     },
     "execution_count": 4,
     "metadata": {},
     "output_type": "execute_result"
    }
   ],
   "source": [
    "pattern = re.compile(\"Chapter [0-9]+\")\n",
    "re.findall(pattern,book)"
   ]
  },
  {
   "cell_type": "markdown",
   "id": "2d87e081-5744-4266-a949-d49ca19325d8",
   "metadata": {},
   "source": [
    "### finding specific word containig sentences using reqex"
   ]
  },
  {
   "cell_type": "code",
   "execution_count": 32,
   "id": "4c238fc8-e02e-4356-9a32-59c70b5d0dbc",
   "metadata": {},
   "outputs": [
    {
     "data": {
      "text/plain": [
       "67"
      ]
     },
     "execution_count": 32,
     "metadata": {},
     "output_type": "execute_result"
    }
   ],
   "source": [
    "pattern = re.compile(\"[^.]* love[^a-zA-Z][^.]*.\")\n",
    "findings = re.findall(pattern,book)\n",
    "len(findings)"
   ]
  },
  {
   "cell_type": "markdown",
   "id": "85e85265-20b4-422c-b51c-3a0bff8ae41a",
   "metadata": {},
   "source": [
    "### finding most occured word"
   ]
  },
  {
   "cell_type": "code",
   "execution_count": 60,
   "id": "bffb701e-9db7-4ea1-b728-6508785a271d",
   "metadata": {},
   "outputs": [
    {
     "name": "stdout",
     "output_type": "stream",
     "text": [
      "86798\n"
     ]
    }
   ],
   "source": [
    "pattern =re.compile(\"[a-zA-Z]+\")\n",
    "findings = re.findall(pattern,book.lower())\n",
    "print(len(findings))\n",
    "word_counts={}\n",
    "for word in findings:\n",
    "    if word in word_counts.keys():\n",
    "        word_counts[word] += 1\n",
    "    else:\n",
    "         word_counts[word] = 1\n",
    "count_list =[(value,key) for (key,value) in word_counts.items()]\n",
    "count_list.sort(reverse=True)\n",
    "\n",
    "\n",
    "\n"
   ]
  },
  {
   "cell_type": "markdown",
   "id": "19298d94-1810-4fd7-84d5-d1c98ffe7851",
   "metadata": {},
   "source": [
    "### extract paragraphs where love is used\n"
   ]
  },
  {
   "cell_type": "code",
   "execution_count": 77,
   "id": "bded94e7-15c1-4833-9212-e62de99327f6",
   "metadata": {},
   "outputs": [
    {
     "data": {
      "text/plain": [
       "60"
      ]
     },
     "execution_count": 77,
     "metadata": {},
     "output_type": "execute_result"
    }
   ],
   "source": [
    "pattern = re.compile('[^\\n]+love[^\\n]+')\n",
    "findings = re.findall(pattern,book)\n",
    "len(findings)"
   ]
  },
  {
   "cell_type": "markdown",
   "id": "c8faa5c5-56b7-4f3d-9090-647f4e0264f5",
   "metadata": {},
   "source": [
    "### Extract chapter titles"
   ]
  },
  {
   "cell_type": "code",
   "execution_count": 98,
   "id": "19a02803-36fb-468e-86c3-dbeb70f57504",
   "metadata": {},
   "outputs": [
    {
     "data": {
      "text/plain": [
       "['Before',\n",
       " 'Everything Precious',\n",
       " 'A Promise',\n",
       " 'Breathe Once More',\n",
       " 'Abandoned',\n",
       " 'Tomb',\n",
       " 'East',\n",
       " 'The Opposite of Death',\n",
       " 'I See a Man',\n",
       " 'After']"
      ]
     },
     "execution_count": 98,
     "metadata": {},
     "output_type": "execute_result"
    }
   ],
   "source": [
    "pattern = re.compile(\"([a-zA-Z ,]+)[\\n]+\")\n",
    "findings = re.findall(pattern,book)\n",
    "findings\n"
   ]
  },
  {
   "cell_type": "markdown",
   "id": "39b35111-fb90-4928-af7b-1158490fdbda",
   "metadata": {},
   "source": [
    "## function to find occurance of any word"
   ]
  },
  {
   "cell_type": "code",
   "execution_count": 104,
   "id": "829b6f25-96ff-4f9b-8e2c-d1c5ede427a9",
   "metadata": {},
   "outputs": [],
   "source": [
    "def find_ocuurances(word_arg):\n",
    "    pattern =re.compile(\"[a-zA-Z]+\")\n",
    "    findings = re.findall(pattern,book.lower())\n",
    "    \n",
    "    word_counts={}\n",
    "    for word in findings:\n",
    "        if word in word_counts.keys():\n",
    "            word_counts[word] += 1\n",
    "        else:\n",
    "             word_counts[word] = 1\n",
    "    try:\n",
    "        return word_counts[word_arg]\n",
    "    except:\n",
    "        return f\"{word_arg} doen't exist\"\n",
    "        "
   ]
  },
  {
   "cell_type": "code",
   "execution_count": 105,
   "id": "c6d83bec-b2af-413f-99cf-497a139ed95f",
   "metadata": {},
   "outputs": [
    {
     "data": {
      "text/plain": [
       "\"tssshe doen't exist\""
      ]
     },
     "execution_count": 105,
     "metadata": {},
     "output_type": "execute_result"
    }
   ],
   "source": [
    "find_ocuurances('tssshe')"
   ]
  }
 ],
 "metadata": {
  "kernelspec": {
   "display_name": "Python 3 (ipykernel)",
   "language": "python",
   "name": "python3"
  },
  "language_info": {
   "codemirror_mode": {
    "name": "ipython",
    "version": 3
   },
   "file_extension": ".py",
   "mimetype": "text/x-python",
   "name": "python",
   "nbconvert_exporter": "python",
   "pygments_lexer": "ipython3",
   "version": "3.11.1"
  }
 },
 "nbformat": 4,
 "nbformat_minor": 5
}
